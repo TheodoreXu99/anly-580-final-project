{
 "cells": [
  {
   "cell_type": "code",
   "execution_count": 55,
   "metadata": {},
   "outputs": [],
   "source": [
    "#import packages\n",
    "from selenium import webdriver\n",
    "from selenium.webdriver.common.keys import Keys\n",
    "from selenium.webdriver.common.by import By\n",
    "import pandas as pd\n",
    "import time"
   ]
  },
  {
   "cell_type": "code",
   "execution_count": 56,
   "metadata": {},
   "outputs": [],
   "source": [
    "#we had 6 topics: business, technology, entertainment, sports, science, health\n",
    "\n",
    "business = \"https://news.google.com/topics/CAAqJggKIiBDQkFTRWdvSUwyMHZNRGx6TVdZU0FtVnVHZ0pWVXlnQVAB?hl=en-US&gl=US&ceid=US%3Aen\"\n",
    "technology = \"https://news.google.com/topics/CAAqJggKIiBDQkFTRWdvSUwyMHZNRGRqTVhZU0FtVnVHZ0pWVXlnQVAB?hl=en-US&gl=US&ceid=US%3Aen\"\n",
    "entertainment = \"https://news.google.com/topics/CAAqJggKIiBDQkFTRWdvSUwyMHZNREpxYW5RU0FtVnVHZ0pWVXlnQVAB?hl=en-US&gl=US&ceid=US%3Aen\"\n",
    "sports = \"https://news.google.com/topics/CAAqJggKIiBDQkFTRWdvSUwyMHZNRFp1ZEdvU0FtVnVHZ0pWVXlnQVAB?hl=en-US&gl=US&ceid=US%3Aen\"\n",
    "science = \"https://news.google.com/topics/CAAqJggKIiBDQkFTRWdvSUwyMHZNRFp0Y1RjU0FtVnVHZ0pWVXlnQVAB?hl=en-US&gl=US&ceid=US%3Aen\"\n",
    "health = \"https://news.google.com/topics/CAAqIQgKIhtDQkFTRGdvSUwyMHZNR3QwTlRFU0FtVnVLQUFQAQ?hl=en-US&gl=US&ceid=US%3Aen\"\n",
    "news_url = [business, technology, entertainment, sports, science, health]\n",
    "news_topics = [\"business\", \"technology\", \"entertainment\", \"sports\", \"science\", \"health\"]"
   ]
  },
  {
   "cell_type": "code",
   "execution_count": 61,
   "metadata": {},
   "outputs": [],
   "source": [
    "def get_news_titles(website_url, i):\n",
    "\n",
    "    #create blank data frame\n",
    "    df = pd.DataFrame(columns=['title', 'topic', \"sub_topic\", 'topic_label'])\n",
    "    #set up chrome driver\n",
    "    driver = webdriver.Chrome('/Users/xutianyi/Desktop/2022_fall/ANLY580/final project/chromedriver')\n",
    "    driver.get(website_url)\n",
    "    #wait for load\n",
    "    time.sleep(3)\n",
    "    menus = driver.find_elements(By.XPATH, \"//div[@class='IP3XKe']\")\n",
    "    # change menu\n",
    "    for n, menu in enumerate(menus):\n",
    "        if n < 6:\n",
    "            menu.click()\n",
    "            time.sleep(5)\n",
    "            #get data\n",
    "            titles = driver.find_elements(By.XPATH, \"//a[@class='DY5T1d RZIKme']\")\n",
    "            for title in titles:\n",
    "                if title.text != \"\":\n",
    "                    df1 = pd.DataFrame([[title.text, news_topics[i], menu.text, i]],\n",
    "                                columns=['title', 'topic', \"sub_topic\", 'topic_label'])\n",
    "                    df = pd.concat([df, df1])\n",
    "    driver.close()\n",
    "\n",
    "    return(df.reset_index(drop=True))"
   ]
  },
  {
   "cell_type": "code",
   "execution_count": 62,
   "metadata": {},
   "outputs": [],
   "source": [
    "df = get_news_titles(news_url[0], 0)\n",
    "for i in range(1, len(news_url)):\n",
    "    df1 = get_news_titles(news_url[i], i)\n",
    "    df = pd.concat([df, df1])"
   ]
  },
  {
   "cell_type": "code",
   "execution_count": 64,
   "metadata": {},
   "outputs": [],
   "source": [
    "df.to_csv(\"news_label.csv\")"
   ]
  }
 ],
 "metadata": {
  "kernelspec": {
   "display_name": "Python 3.9.13 ('anly580')",
   "language": "python",
   "name": "python3"
  },
  "language_info": {
   "codemirror_mode": {
    "name": "ipython",
    "version": 3
   },
   "file_extension": ".py",
   "mimetype": "text/x-python",
   "name": "python",
   "nbconvert_exporter": "python",
   "pygments_lexer": "ipython3",
   "version": "3.9.13"
  },
  "orig_nbformat": 4,
  "vscode": {
   "interpreter": {
    "hash": "a4776d7f0a471e5acf17874846af6d82f236ccd4fe3103e6c53881143751a308"
   }
  }
 },
 "nbformat": 4,
 "nbformat_minor": 2
}
