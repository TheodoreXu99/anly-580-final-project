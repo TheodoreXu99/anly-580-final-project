{
 "cells": [
  {
   "cell_type": "code",
   "execution_count": 1,
   "metadata": {},
   "outputs": [],
   "source": [
    "#import packages\n",
    "from selenium import webdriver\n",
    "from selenium.webdriver.common.keys import Keys\n",
    "from selenium.webdriver.common.by import By\n",
    "import pandas as pd\n",
    "import time"
   ]
  },
  {
   "cell_type": "code",
   "execution_count": 2,
   "metadata": {},
   "outputs": [],
   "source": [
    "news_topics = [\"business\", \"technology\", \"entertainment\", \"sports\", \"science\", \"health\"]"
   ]
  },
  {
   "cell_type": "code",
   "execution_count": 10,
   "metadata": {},
   "outputs": [],
   "source": [
    "def get_topic(topic):\n",
    "    website_url = \"https://news.google.com/home?hl=en-US&gl=US&ceid=US:en\"\n",
    "    driver = webdriver.Chrome('/Users/xutianyi/Desktop/2022_fall/ANLY580/final project/chromedriver')\n",
    "    driver.get(website_url)\n",
    "    search_box = driver.find_element(By.XPATH, \"//input[@class='Ax4B8 ZAGvjd']\")\n",
    "    search_box.send_keys(topic)\n",
    "    search_bottom = driver.find_element(By.XPATH, \"//button[@class='gb_rf']\")\n",
    "    search_bottom.click()\n",
    "    time.sleep(3)\n",
    "    news = driver.find_elements(By.XPATH, \"//a[@class='DY5T1d RZIKme']\")\n",
    "    data = [[elem.text,elem.get_attribute('href')] for elem in news]\n",
    "    df = pd.DataFrame(data,columns=['title', 'link'])\n",
    "    return df\n"
   ]
  },
  {
   "cell_type": "code",
   "execution_count": 12,
   "metadata": {},
   "outputs": [
    {
     "data": {
      "text/html": [
       "<div>\n",
       "<style scoped>\n",
       "    .dataframe tbody tr th:only-of-type {\n",
       "        vertical-align: middle;\n",
       "    }\n",
       "\n",
       "    .dataframe tbody tr th {\n",
       "        vertical-align: top;\n",
       "    }\n",
       "\n",
       "    .dataframe thead th {\n",
       "        text-align: right;\n",
       "    }\n",
       "</style>\n",
       "<table border=\"1\" class=\"dataframe\">\n",
       "  <thead>\n",
       "    <tr style=\"text-align: right;\">\n",
       "      <th></th>\n",
       "      <th>title</th>\n",
       "      <th>link</th>\n",
       "    </tr>\n",
       "  </thead>\n",
       "  <tbody>\n",
       "    <tr>\n",
       "      <th>0</th>\n",
       "      <td>The Week in Business: Upheaval in China</td>\n",
       "      <td>https://news.google.com/articles/CBMiV2h0dHBzO...</td>\n",
       "    </tr>\n",
       "    <tr>\n",
       "      <th>1</th>\n",
       "      <td>2023 Resolutions For Business Owners</td>\n",
       "      <td>https://news.google.com/articles/CBMiVmh0dHBzO...</td>\n",
       "    </tr>\n",
       "    <tr>\n",
       "      <th>2</th>\n",
       "      <td>10 Places to Look for Small Business Grants</td>\n",
       "      <td>https://news.google.com/articles/CBMiZGh0dHBzO...</td>\n",
       "    </tr>\n",
       "    <tr>\n",
       "      <th>3</th>\n",
       "      <td>Business Notes for Dec. 4, 2022</td>\n",
       "      <td>https://news.google.com/articles/CBMiQmh0dHBzO...</td>\n",
       "    </tr>\n",
       "    <tr>\n",
       "      <th>4</th>\n",
       "      <td>Wildcats take care of business at home against...</td>\n",
       "      <td>https://news.google.com/articles/CBMifWh0dHBzO...</td>\n",
       "    </tr>\n",
       "    <tr>\n",
       "      <th>...</th>\n",
       "      <td>...</td>\n",
       "      <td>...</td>\n",
       "    </tr>\n",
       "    <tr>\n",
       "      <th>95</th>\n",
       "      <td>Alex Jones has filed for personal bankruptcy</td>\n",
       "      <td>https://news.google.com/articles/CBMiSGh0dHBzO...</td>\n",
       "    </tr>\n",
       "    <tr>\n",
       "      <th>96</th>\n",
       "      <td>Brookfield Asset Management Sets Share Ratio f...</td>\n",
       "      <td>https://news.google.com/articles/CBMigQFodHRwc...</td>\n",
       "    </tr>\n",
       "    <tr>\n",
       "      <th>97</th>\n",
       "      <td>Rail unions decry Biden's call for Congress to...</td>\n",
       "      <td>https://news.google.com/articles/CBMiTWh0dHBzO...</td>\n",
       "    </tr>\n",
       "    <tr>\n",
       "      <th>98</th>\n",
       "      <td>UK bans Chinese surveillance cameras from 'sen...</td>\n",
       "      <td>https://news.google.com/articles/CBMiZGh0dHBzO...</td>\n",
       "    </tr>\n",
       "    <tr>\n",
       "      <th>99</th>\n",
       "      <td>The Only Business Idea You Need to Start Makin...</td>\n",
       "      <td>https://news.google.com/articles/CBMibWh0dHBzO...</td>\n",
       "    </tr>\n",
       "  </tbody>\n",
       "</table>\n",
       "<p>100 rows × 2 columns</p>\n",
       "</div>"
      ],
      "text/plain": [
       "                                                title  \\\n",
       "0             The Week in Business: Upheaval in China   \n",
       "1                2023 Resolutions For Business Owners   \n",
       "2         10 Places to Look for Small Business Grants   \n",
       "3                     Business Notes for Dec. 4, 2022   \n",
       "4   Wildcats take care of business at home against...   \n",
       "..                                                ...   \n",
       "95       Alex Jones has filed for personal bankruptcy   \n",
       "96  Brookfield Asset Management Sets Share Ratio f...   \n",
       "97  Rail unions decry Biden's call for Congress to...   \n",
       "98  UK bans Chinese surveillance cameras from 'sen...   \n",
       "99  The Only Business Idea You Need to Start Makin...   \n",
       "\n",
       "                                                 link  \n",
       "0   https://news.google.com/articles/CBMiV2h0dHBzO...  \n",
       "1   https://news.google.com/articles/CBMiVmh0dHBzO...  \n",
       "2   https://news.google.com/articles/CBMiZGh0dHBzO...  \n",
       "3   https://news.google.com/articles/CBMiQmh0dHBzO...  \n",
       "4   https://news.google.com/articles/CBMifWh0dHBzO...  \n",
       "..                                                ...  \n",
       "95  https://news.google.com/articles/CBMiSGh0dHBzO...  \n",
       "96  https://news.google.com/articles/CBMigQFodHRwc...  \n",
       "97  https://news.google.com/articles/CBMiTWh0dHBzO...  \n",
       "98  https://news.google.com/articles/CBMiZGh0dHBzO...  \n",
       "99  https://news.google.com/articles/CBMibWh0dHBzO...  \n",
       "\n",
       "[100 rows x 2 columns]"
      ]
     },
     "execution_count": 12,
     "metadata": {},
     "output_type": "execute_result"
    }
   ],
   "source": [
    "get_topic(\"business\")"
   ]
  }
 ],
 "metadata": {
  "kernelspec": {
   "display_name": "Python 3.9.13 ('anly580')",
   "language": "python",
   "name": "python3"
  },
  "language_info": {
   "codemirror_mode": {
    "name": "ipython",
    "version": 3
   },
   "file_extension": ".py",
   "mimetype": "text/x-python",
   "name": "python",
   "nbconvert_exporter": "python",
   "pygments_lexer": "ipython3",
   "version": "3.9.13"
  },
  "orig_nbformat": 4,
  "vscode": {
   "interpreter": {
    "hash": "a4776d7f0a471e5acf17874846af6d82f236ccd4fe3103e6c53881143751a308"
   }
  }
 },
 "nbformat": 4,
 "nbformat_minor": 2
}
